{
 "cells": [
  {
   "cell_type": "code",
   "execution_count": 1,
   "id": "bf37b40b-4117-4b10-a33c-e606aca661ca",
   "metadata": {},
   "outputs": [],
   "source": [
    "import pandas as pd\n",
    "import numpy as np"
   ]
  },
  {
   "cell_type": "code",
   "execution_count": 2,
   "id": "8cfb512d-dd57-4385-8a53-3e8ae2d1dcea",
   "metadata": {},
   "outputs": [],
   "source": [
    "# Data Gathering\n",
    "\n",
    "temp_df = pd.read_csv('IMDB Dataset.csv')"
   ]
  },
  {
   "cell_type": "markdown",
   "id": "ba0bef44-4b14-407d-8f01-dab22ca8ff7c",
   "metadata": {},
   "source": [
    "#### Data cleaning "
   ]
  },
  {
   "cell_type": "code",
   "execution_count": 3,
   "id": "2e0bfc46-e27a-414d-8600-93e22c954d6b",
   "metadata": {},
   "outputs": [
    {
     "data": {
      "text/html": [
       "<div>\n",
       "<style scoped>\n",
       "    .dataframe tbody tr th:only-of-type {\n",
       "        vertical-align: middle;\n",
       "    }\n",
       "\n",
       "    .dataframe tbody tr th {\n",
       "        vertical-align: top;\n",
       "    }\n",
       "\n",
       "    .dataframe thead th {\n",
       "        text-align: right;\n",
       "    }\n",
       "</style>\n",
       "<table border=\"1\" class=\"dataframe\">\n",
       "  <thead>\n",
       "    <tr style=\"text-align: right;\">\n",
       "      <th></th>\n",
       "      <th>review</th>\n",
       "      <th>sentiment</th>\n",
       "    </tr>\n",
       "  </thead>\n",
       "  <tbody>\n",
       "    <tr>\n",
       "      <th>0</th>\n",
       "      <td>One of the other reviewers has mentioned that ...</td>\n",
       "      <td>positive</td>\n",
       "    </tr>\n",
       "    <tr>\n",
       "      <th>1</th>\n",
       "      <td>A wonderful little production. &lt;br /&gt;&lt;br /&gt;The...</td>\n",
       "      <td>positive</td>\n",
       "    </tr>\n",
       "    <tr>\n",
       "      <th>2</th>\n",
       "      <td>I thought this was a wonderful way to spend ti...</td>\n",
       "      <td>positive</td>\n",
       "    </tr>\n",
       "    <tr>\n",
       "      <th>3</th>\n",
       "      <td>Basically there's a family where a little boy ...</td>\n",
       "      <td>negative</td>\n",
       "    </tr>\n",
       "    <tr>\n",
       "      <th>4</th>\n",
       "      <td>Petter Mattei's \"Love in the Time of Money\" is...</td>\n",
       "      <td>positive</td>\n",
       "    </tr>\n",
       "  </tbody>\n",
       "</table>\n",
       "</div>"
      ],
      "text/plain": [
       "                                              review sentiment\n",
       "0  One of the other reviewers has mentioned that ...  positive\n",
       "1  A wonderful little production. <br /><br />The...  positive\n",
       "2  I thought this was a wonderful way to spend ti...  positive\n",
       "3  Basically there's a family where a little boy ...  negative\n",
       "4  Petter Mattei's \"Love in the Time of Money\" is...  positive"
      ]
     },
     "execution_count": 3,
     "metadata": {},
     "output_type": "execute_result"
    }
   ],
   "source": [
    "temp_df.head()"
   ]
  },
  {
   "cell_type": "code",
   "execution_count": 4,
   "id": "eedb904d-d74b-4796-b5a7-0589c1dc18af",
   "metadata": {},
   "outputs": [
    {
     "data": {
      "text/plain": [
       "(50000, 2)"
      ]
     },
     "execution_count": 4,
     "metadata": {},
     "output_type": "execute_result"
    }
   ],
   "source": [
    "temp_df.shape"
   ]
  },
  {
   "cell_type": "code",
   "execution_count": 5,
   "id": "3e0bbf11-6faa-4c94-8a99-84a624109956",
   "metadata": {},
   "outputs": [],
   "source": [
    "df = temp_df.iloc[:20000]"
   ]
  },
  {
   "cell_type": "code",
   "execution_count": 6,
   "id": "f765ac6a-a3c3-4b0a-baf6-48401f4dfa9b",
   "metadata": {},
   "outputs": [
    {
     "data": {
      "text/plain": [
       "(20000, 2)"
      ]
     },
     "execution_count": 6,
     "metadata": {},
     "output_type": "execute_result"
    }
   ],
   "source": [
    "df.shape"
   ]
  },
  {
   "cell_type": "code",
   "execution_count": 7,
   "id": "e8e4abe5-913a-4982-827c-d11ca775a241",
   "metadata": {},
   "outputs": [
    {
     "data": {
      "text/plain": [
       "'I thought this was a wonderful way to spend time on a too hot summer weekend, sitting in the air conditioned theater and watching a light-hearted comedy. The plot is simplistic, but the dialogue is witty and the characters are likable (even the well bread suspected serial killer). While some may be disappointed when they realize this is not Match Point 2: Risk Addiction, I thought it was proof that Woody Allen is still fully in control of the style many of us have grown to love.<br /><br />This was the most I\\'d laughed at one of Woody\\'s comedies in years (dare I say a decade?). While I\\'ve never been impressed with Scarlet Johanson, in this she managed to tone down her \"sexy\" image and jumped right into a average, but spirited young woman.<br /><br />This may not be the crown jewel of his career, but it was wittier than \"Devil Wears Prada\" and more interesting than \"Superman\" a great comedy to go see with friends.'"
      ]
     },
     "execution_count": 7,
     "metadata": {},
     "output_type": "execute_result"
    }
   ],
   "source": [
    "df['review'][2]"
   ]
  },
  {
   "cell_type": "code",
   "execution_count": 8,
   "id": "046e2795-3211-4ced-b1fa-bf8d8131578f",
   "metadata": {},
   "outputs": [
    {
     "data": {
      "text/plain": [
       "review       0\n",
       "sentiment    0\n",
       "dtype: int64"
      ]
     },
     "execution_count": 8,
     "metadata": {},
     "output_type": "execute_result"
    }
   ],
   "source": [
    "df.isna().sum()"
   ]
  },
  {
   "cell_type": "code",
   "execution_count": 9,
   "id": "607e77d2-51ca-4d2a-98c8-891a73a6e68a",
   "metadata": {},
   "outputs": [
    {
     "data": {
      "text/plain": [
       "74"
      ]
     },
     "execution_count": 9,
     "metadata": {},
     "output_type": "execute_result"
    }
   ],
   "source": [
    "df.duplicated().sum()"
   ]
  },
  {
   "cell_type": "code",
   "execution_count": 10,
   "id": "80fe7d80-d698-47fe-99fc-779209546554",
   "metadata": {},
   "outputs": [
    {
     "name": "stderr",
     "output_type": "stream",
     "text": [
      "C:\\Users\\himan\\AppData\\Local\\Temp\\ipykernel_30108\\3006716147.py:1: SettingWithCopyWarning: \n",
      "A value is trying to be set on a copy of a slice from a DataFrame\n",
      "\n",
      "See the caveats in the documentation: https://pandas.pydata.org/pandas-docs/stable/user_guide/indexing.html#returning-a-view-versus-a-copy\n",
      "  df.drop_duplicates(inplace=True)\n"
     ]
    }
   ],
   "source": [
    "df.drop_duplicates(inplace=True)"
   ]
  },
  {
   "cell_type": "code",
   "execution_count": 11,
   "id": "a1e68285-d5dc-4738-a770-d3c1d915908a",
   "metadata": {},
   "outputs": [
    {
     "data": {
      "text/plain": [
       "0"
      ]
     },
     "execution_count": 11,
     "metadata": {},
     "output_type": "execute_result"
    }
   ],
   "source": [
    "df.duplicated().sum()"
   ]
  },
  {
   "cell_type": "markdown",
   "id": "ca2a7659-3adc-477e-8299-721f1137c7f7",
   "metadata": {},
   "source": [
    "#### Preprocessing "
   ]
  },
  {
   "cell_type": "code",
   "execution_count": 12,
   "id": "a1a8fcf1-fd77-49e0-929c-bdc4338831e9",
   "metadata": {},
   "outputs": [],
   "source": [
    "import warnings\n",
    "warnings.filterwarnings('ignore')"
   ]
  },
  {
   "cell_type": "code",
   "execution_count": 13,
   "id": "6875b0ca-eded-4e85-ba78-2b8f681d1a6f",
   "metadata": {},
   "outputs": [],
   "source": [
    "import re\n",
    "\n",
    "def remove_tags(text):\n",
    "    clean_text = re.sub(re.compile('<.*?>'),'',text)\n",
    "    return clean_text"
   ]
  },
  {
   "cell_type": "code",
   "execution_count": 14,
   "id": "21ceb48d-c94c-4a70-9f00-605d1d63a3e3",
   "metadata": {},
   "outputs": [],
   "source": [
    "df['review'] = df['review'].apply(remove_tags)"
   ]
  },
  {
   "cell_type": "code",
   "execution_count": 15,
   "id": "9eca4428-d9fa-48a1-8500-ef1964160619",
   "metadata": {},
   "outputs": [
    {
     "data": {
      "text/plain": [
       "\"One of the other reviewers has mentioned that after watching just 1 Oz episode you'll be hooked. They are right, as this is exactly what happened with me.The first thing that struck me about Oz was its brutality and unflinching scenes of violence, which set in right from the word GO. Trust me, this is not a show for the faint hearted or timid. This show pulls no punches with regards to drugs, sex or violence. Its is hardcore, in the classic use of the word.It is called OZ as that is the nickname given to the Oswald Maximum Security State Penitentary. It focuses mainly on Emerald City, an experimental section of the prison where all the cells have glass fronts and face inwards, so privacy is not high on the agenda. Em City is home to many..Aryans, Muslims, gangstas, Latinos, Christians, Italians, Irish and more....so scuffles, death stares, dodgy dealings and shady agreements are never far away.I would say the main appeal of the show is due to the fact that it goes where other shows wouldn't dare. Forget pretty pictures painted for mainstream audiences, forget charm, forget romance...OZ doesn't mess around. The first episode I ever saw struck me as so nasty it was surreal, I couldn't say I was ready for it, but as I watched more, I developed a taste for Oz, and got accustomed to the high levels of graphic violence. Not just violence, but injustice (crooked guards who'll be sold out for a nickel, inmates who'll kill on order and get away with it, well mannered, middle class inmates being turned into prison bitches due to their lack of street skills or prison experience) Watching Oz, you may become comfortable with what is uncomfortable viewing....thats if you can get in touch with your darker side.\""
      ]
     },
     "execution_count": 15,
     "metadata": {},
     "output_type": "execute_result"
    }
   ],
   "source": [
    "df['review'][0]  # checking for any tags present."
   ]
  },
  {
   "cell_type": "code",
   "execution_count": 16,
   "id": "d061a244-7a69-429b-b2d4-d1f642e4f4ab",
   "metadata": {},
   "outputs": [
    {
     "data": {
      "text/plain": [
       "'i thought this was a wonderful way to spend time on a too hot summer weekend, sitting in the air conditioned theater and watching a light-hearted comedy. the plot is simplistic, but the dialogue is witty and the characters are likable (even the well bread suspected serial killer). while some may be disappointed when they realize this is not match point 2: risk addiction, i thought it was proof that woody allen is still fully in control of the style many of us have grown to love.this was the most i\\'d laughed at one of woody\\'s comedies in years (dare i say a decade?). while i\\'ve never been impressed with scarlet johanson, in this she managed to tone down her \"sexy\" image and jumped right into a average, but spirited young woman.this may not be the crown jewel of his career, but it was wittier than \"devil wears prada\" and more interesting than \"superman\" a great comedy to go see with friends.'"
      ]
     },
     "execution_count": 16,
     "metadata": {},
     "output_type": "execute_result"
    }
   ],
   "source": [
    "# Converting reveiws into lower case\n",
    "\n",
    "df['review'] = df['review'].str.lower()\n",
    "df['review'][2]"
   ]
  },
  {
   "cell_type": "code",
   "execution_count": 17,
   "id": "d351496b-f845-4fd5-b63d-3b0eb54f6c70",
   "metadata": {},
   "outputs": [],
   "source": [
    "# # nltk --> natural language tool kit. \n",
    "# import nltk\n",
    "# nltk.download('stopwords')\n",
    "# from nltk.corpus import stopwords\n",
    "# l1 = stopwords.words('english')\n",
    "\n",
    "# # --------------------------------------------------------\n",
    "\n",
    "# import string\n",
    "# string.punctuation\n",
    "\n",
    "# #-------------------------------------------------------------\n",
    "\n",
    "# # removing stop words from file. \n",
    "\n",
    "# def text_process(mess):\n",
    "#     '''\n",
    "#         1. remove the punctuation.\n",
    "#         2. remove the stopwords. \n",
    "#         3. return the list of clean words.\n",
    "#     '''\n",
    "\n",
    "#     nopunc = [char for char in mess if char not in string.punctuation] # list  comprehension. \n",
    "#     nopunc = \"\".join(nopunc)\n",
    "\n",
    "#     return[word for word in nopunc.split() if word not in l1]"
   ]
  },
  {
   "cell_type": "code",
   "execution_count": 18,
   "id": "3289a95b-cb6c-4048-b16b-fe11b17b44a3",
   "metadata": {},
   "outputs": [],
   "source": [
    "import string\n",
    "\n",
    "def remove_punc(text):\n",
    "    if isinstance(text, list):\n",
    "        text = ' '.join(text)  # Convert list to string\n",
    "    return text.translate(str.maketrans('', '', string.punctuation))\n",
    "\n"
   ]
  },
  {
   "cell_type": "code",
   "execution_count": 30,
   "id": "cece88d0-6ba5-4d18-ae40-20c1ca7e3aaf",
   "metadata": {},
   "outputs": [
    {
     "data": {
      "text/plain": [
       "'one of the other reviewers has mentioned that after watching just 1 oz episode youll be hooked they are right as this is exactly what happened with methe first thing that struck me about oz was its brutality and unflinching scenes of violence which set in right from the word go trust me this is not a show for the faint hearted or timid this show pulls no punches with regards to drugs sex or violence its is hardcore in the classic use of the wordit is called oz as that is the nickname given to the oswald maximum security state penitentary it focuses mainly on emerald city an experimental section of the prison where all the cells have glass fronts and face inwards so privacy is not high on the agenda em city is home to manyaryans muslims gangstas latinos christians italians irish and moreso scuffles death stares dodgy dealings and shady agreements are never far awayi would say the main appeal of the show is due to the fact that it goes where other shows wouldnt dare forget pretty pictures painted for mainstream audiences forget charm forget romanceoz doesnt mess around the first episode i ever saw struck me as so nasty it was surreal i couldnt say i was ready for it but as i watched more i developed a taste for oz and got accustomed to the high levels of graphic violence not just violence but injustice crooked guards wholl be sold out for a nickel inmates wholl kill on order and get away with it well mannered middle class inmates being turned into prison bitches due to their lack of street skills or prison experience watching oz you may become comfortable with what is uncomfortable viewingthats if you can get in touch with your darker side'"
      ]
     },
     "execution_count": 30,
     "metadata": {},
     "output_type": "execute_result"
    }
   ],
   "source": [
    "df['review']= df['review'].apply(remove_punc)\n",
    "df['review'][0]"
   ]
  },
  {
   "cell_type": "code",
   "execution_count": 34,
   "id": "4b9ab70b-203f-4586-b910-a8d6d817498c",
   "metadata": {},
   "outputs": [
    {
     "data": {
      "text/plain": [
       "0        one reviewers mentioned watching 1 oz episode ...\n",
       "1        wonderful little production filming technique ...\n",
       "2        thought wonderful way spend time hot summer we...\n",
       "3        basically theres family little boy jake thinks...\n",
       "4        petter matteis love time money visually stunni...\n",
       "                               ...                        \n",
       "19995    ok starters taxi driver amazing taxi driver am...\n",
       "19996    sort hard say greatly enjoyed targets paper mo...\n",
       "19997    still liked though warren beatty fair comic bo...\n",
       "19998    could still use black adder even today imagine...\n",
       "19999    socalled documentary tries tell usa faked moon...\n",
       "Name: review, Length: 19926, dtype: object"
      ]
     },
     "execution_count": 34,
     "metadata": {},
     "output_type": "execute_result"
    }
   ],
   "source": [
    "import nltk\n",
    "from nltk.corpus import stopwords\n",
    "sw_list = stopwords.words('english')\n",
    "\n",
    "df['review'] = df['review'].apply(lambda x:[item for item in x.split() if item not in sw_list]).apply(lambda x: \" \".join(x))\n",
    "df['review']"
   ]
  },
  {
   "cell_type": "code",
   "execution_count": 43,
   "id": "4a4f9a83-5cff-4719-8e72-dc7e638646b3",
   "metadata": {
    "scrolled": true
   },
   "outputs": [],
   "source": [
    "X = df.iloc[:,0:1]\n",
    "y = df['sentiment']"
   ]
  },
  {
   "cell_type": "code",
   "execution_count": 45,
   "id": "0a07a23b-bd27-4fe2-ba41-6d71093f7096",
   "metadata": {},
   "outputs": [
    {
     "data": {
      "text/html": [
       "<div>\n",
       "<style scoped>\n",
       "    .dataframe tbody tr th:only-of-type {\n",
       "        vertical-align: middle;\n",
       "    }\n",
       "\n",
       "    .dataframe tbody tr th {\n",
       "        vertical-align: top;\n",
       "    }\n",
       "\n",
       "    .dataframe thead th {\n",
       "        text-align: right;\n",
       "    }\n",
       "</style>\n",
       "<table border=\"1\" class=\"dataframe\">\n",
       "  <thead>\n",
       "    <tr style=\"text-align: right;\">\n",
       "      <th></th>\n",
       "      <th>review</th>\n",
       "      <th>sentiment</th>\n",
       "    </tr>\n",
       "  </thead>\n",
       "  <tbody>\n",
       "    <tr>\n",
       "      <th>0</th>\n",
       "      <td>one reviewers mentioned watching 1 oz episode ...</td>\n",
       "      <td>positive</td>\n",
       "    </tr>\n",
       "    <tr>\n",
       "      <th>1</th>\n",
       "      <td>wonderful little production filming technique ...</td>\n",
       "      <td>positive</td>\n",
       "    </tr>\n",
       "  </tbody>\n",
       "</table>\n",
       "</div>"
      ],
      "text/plain": [
       "                                              review sentiment\n",
       "0  one reviewers mentioned watching 1 oz episode ...  positive\n",
       "1  wonderful little production filming technique ...  positive"
      ]
     },
     "execution_count": 45,
     "metadata": {},
     "output_type": "execute_result"
    }
   ],
   "source": [
    "df.head(2)"
   ]
  },
  {
   "cell_type": "code",
   "execution_count": 49,
   "id": "4fd53215-acea-443c-8c23-603d40799ba2",
   "metadata": {},
   "outputs": [
    {
     "data": {
      "text/plain": [
       "array([1, 1, 1, ..., 1, 1, 0], dtype=int64)"
      ]
     },
     "execution_count": 49,
     "metadata": {},
     "output_type": "execute_result"
    }
   ],
   "source": [
    "from sklearn.preprocessing import LabelEncoder\n",
    "le = LabelEncoder()\n",
    "\n",
    "y = le.fit_transform(y)\n",
    "y"
   ]
  },
  {
   "cell_type": "code",
   "execution_count": 50,
   "id": "e9993b45-cef3-47d4-8647-a40db72e1fc0",
   "metadata": {},
   "outputs": [],
   "source": [
    "# creating bag of words. \n",
    "# Vector transformation of words. \n",
    "\n",
    "from sklearn.feature_extraction.text import CountVectorizer\n",
    "cv = CountVectorizer()"
   ]
  },
  {
   "cell_type": "code",
   "execution_count": 53,
   "id": "31e16fb9-cada-4496-bdfe-9d86467b609a",
   "metadata": {},
   "outputs": [],
   "source": [
    "# abcd = CountVectorizer(analyzer= text_process).fit(df['review']) \n",
    "\n",
    "bow = cv.fit(df['review'])"
   ]
  },
  {
   "cell_type": "code",
   "execution_count": 54,
   "id": "b55f51ce-dd17-4a90-9161-b273f1d74786",
   "metadata": {
    "scrolled": true
   },
   "outputs": [
    {
     "data": {
      "text/plain": [
       "{'one': 78586,\n",
       " 'reviewers': 92231,\n",
       " 'mentioned': 69713,\n",
       " 'watching': 119994,\n",
       " 'oz': 80668,\n",
       " 'episode': 36574,\n",
       " 'youll': 124337,\n",
       " 'hooked': 52893,\n",
       " 'right': 92679,\n",
       " 'exactly': 37654,\n",
       " 'happened': 49623,\n",
       " 'methe': 70064,\n",
       " 'first': 41516,\n",
       " 'thing': 110604,\n",
       " 'struck': 105865,\n",
       " 'brutality': 16340,\n",
       " 'unflinching': 116032,\n",
       " 'scenes': 95820,\n",
       " 'violence': 118687,\n",
       " 'set': 98253,\n",
       " 'word': 122783,\n",
       " 'go': 46496,\n",
       " 'trust': 114243,\n",
       " 'show': 99589,\n",
       " 'faint': 39078,\n",
       " 'hearted': 50540,\n",
       " 'timid': 111915,\n",
       " 'pulls': 87887,\n",
       " 'punches': 87942,\n",
       " 'regards': 90607,\n",
       " 'drugs': 33308,\n",
       " 'sex': 98400,\n",
       " 'hardcore': 49785,\n",
       " 'classic': 21589,\n",
       " 'use': 117220,\n",
       " 'wordit': 122797,\n",
       " 'called': 17586,\n",
       " 'nickname': 75763,\n",
       " 'given': 46202,\n",
       " 'oswald': 79626,\n",
       " 'maximum': 68589,\n",
       " 'security': 97097,\n",
       " 'state': 104515,\n",
       " 'penitentary': 82388,\n",
       " 'focuses': 42354,\n",
       " 'mainly': 66840,\n",
       " 'emerald': 35376,\n",
       " 'city': 21405,\n",
       " 'experimental': 38314,\n",
       " 'section': 97079,\n",
       " 'prison': 86706,\n",
       " 'cells': 19285,\n",
       " 'glass': 46287,\n",
       " 'fronts': 43893,\n",
       " 'face': 38862,\n",
       " 'inwards': 57299,\n",
       " 'privacy': 86733,\n",
       " 'high': 51580,\n",
       " 'agenda': 4395,\n",
       " 'em': 35273,\n",
       " 'home': 52652,\n",
       " 'manyaryans': 67572,\n",
       " 'muslims': 74177,\n",
       " 'gangstas': 44852,\n",
       " 'latinos': 62688,\n",
       " 'christians': 20971,\n",
       " 'italians': 57799,\n",
       " 'irish': 57370,\n",
       " 'moreso': 72391,\n",
       " 'scuffles': 96745,\n",
       " 'death': 28109,\n",
       " 'stares': 104359,\n",
       " 'dodgy': 31893,\n",
       " 'dealings': 28074,\n",
       " 'shady': 98598,\n",
       " 'agreements': 4541,\n",
       " 'never': 75499,\n",
       " 'far': 39507,\n",
       " 'awayi': 9646,\n",
       " 'would': 123230,\n",
       " 'say': 95456,\n",
       " 'main': 66828,\n",
       " 'appeal': 7512,\n",
       " 'due': 33489,\n",
       " 'fact': 38944,\n",
       " 'goes': 46636,\n",
       " 'shows': 99693,\n",
       " 'wouldnt': 123241,\n",
       " 'dare': 27537,\n",
       " 'forget': 42804,\n",
       " 'pretty': 86502,\n",
       " 'pictures': 83568,\n",
       " 'painted': 80896,\n",
       " 'mainstream': 66847,\n",
       " 'audiences': 9187,\n",
       " 'charm': 20045,\n",
       " 'romanceoz': 93523,\n",
       " 'doesnt': 31928,\n",
       " 'mess': 69919,\n",
       " 'around': 8123,\n",
       " 'ever': 37360,\n",
       " 'saw': 95415,\n",
       " 'nasty': 74789,\n",
       " 'surreal': 107430,\n",
       " 'couldnt': 25203,\n",
       " 'ready': 89661,\n",
       " 'watched': 119967,\n",
       " 'developed': 29785,\n",
       " 'taste': 108802,\n",
       " 'got': 47216,\n",
       " 'accustomed': 2982,\n",
       " 'levels': 63722,\n",
       " 'graphic': 47542,\n",
       " 'injustice': 56189,\n",
       " 'crooked': 26354,\n",
       " 'guards': 48306,\n",
       " 'wholl': 121616,\n",
       " 'sold': 102225,\n",
       " 'nickel': 75748,\n",
       " 'inmates': 56211,\n",
       " 'kill': 60836,\n",
       " 'order': 79304,\n",
       " 'get': 45696,\n",
       " 'away': 9628,\n",
       " 'well': 120674,\n",
       " 'mannered': 67433,\n",
       " 'middle': 70325,\n",
       " 'class': 21579,\n",
       " 'turned': 114549,\n",
       " 'bitches': 13355,\n",
       " 'lack': 61999,\n",
       " 'street': 105646,\n",
       " 'skills': 100869,\n",
       " 'experience': 38262,\n",
       " 'may': 68602,\n",
       " 'become': 11677,\n",
       " 'comfortable': 23004,\n",
       " 'uncomfortable': 115526,\n",
       " 'viewingthats': 118497,\n",
       " 'touch': 112929,\n",
       " 'darker': 27573,\n",
       " 'side': 99982,\n",
       " 'wonderful': 122626,\n",
       " 'little': 64677,\n",
       " 'production': 86946,\n",
       " 'filming': 40908,\n",
       " 'technique': 109079,\n",
       " 'unassuming': 115395,\n",
       " 'oldtimebbc': 78411,\n",
       " 'fashion': 39674,\n",
       " 'gives': 46214,\n",
       " 'comforting': 23009,\n",
       " 'sometimes': 102421,\n",
       " 'discomforting': 31041,\n",
       " 'sense': 97810,\n",
       " 'realism': 89699,\n",
       " 'entire': 36421,\n",
       " 'piece': 83607,\n",
       " 'actors': 3401,\n",
       " 'extremely': 38636,\n",
       " 'chosen': 20920,\n",
       " 'michael': 70207,\n",
       " 'sheen': 98936,\n",
       " 'polari': 84929,\n",
       " 'voices': 118992,\n",
       " 'pat': 81790,\n",
       " 'truly': 114215,\n",
       " 'see': 97131,\n",
       " 'seamless': 96837,\n",
       " 'editing': 34446,\n",
       " 'guided': 48404,\n",
       " 'references': 90485,\n",
       " 'williams': 121946,\n",
       " 'diary': 30084,\n",
       " 'entries': 36465,\n",
       " 'worth': 123196,\n",
       " 'terrificly': 109624,\n",
       " 'written': 123481,\n",
       " 'performed': 82722,\n",
       " 'masterful': 68196,\n",
       " 'great': 47685,\n",
       " 'masters': 68237,\n",
       " 'comedy': 22897,\n",
       " 'life': 63953,\n",
       " 'really': 89778,\n",
       " 'comes': 22988,\n",
       " 'things': 110643,\n",
       " 'fantasy': 39462,\n",
       " 'guard': 48294,\n",
       " 'rather': 89385,\n",
       " 'traditional': 113189,\n",
       " 'dream': 32988,\n",
       " 'techniques': 109081,\n",
       " 'remains': 91060,\n",
       " 'solid': 102265,\n",
       " 'disappears': 30862,\n",
       " 'plays': 84357,\n",
       " 'knowledge': 61413,\n",
       " 'senses': 97849,\n",
       " 'particularly': 81548,\n",
       " 'concerning': 23660,\n",
       " 'orton': 79529,\n",
       " 'halliwell': 49224,\n",
       " 'sets': 98281,\n",
       " 'flat': 41834,\n",
       " 'halliwells': 49225,\n",
       " 'murals': 73941,\n",
       " 'decorating': 28421,\n",
       " 'every': 37450,\n",
       " 'surface': 107327,\n",
       " 'terribly': 109614,\n",
       " 'done': 32197,\n",
       " 'thought': 111062,\n",
       " 'way': 120196,\n",
       " 'spend': 103350,\n",
       " 'time': 111614,\n",
       " 'hot': 53299,\n",
       " 'summer': 106834,\n",
       " 'weekend': 120509,\n",
       " 'sitting': 100655,\n",
       " 'air': 4686,\n",
       " 'conditioned': 23770,\n",
       " 'theater': 110008,\n",
       " 'lighthearted': 64134,\n",
       " 'plot': 84497,\n",
       " 'simplistic': 100346,\n",
       " 'dialogue': 30014,\n",
       " 'witty': 122426,\n",
       " 'characters': 19893,\n",
       " 'likable': 64175,\n",
       " 'even': 37287,\n",
       " 'bread': 15611,\n",
       " 'suspected': 107531,\n",
       " 'serial': 98101,\n",
       " 'killer': 60864,\n",
       " 'disappointed': 30872,\n",
       " 'realize': 89761,\n",
       " 'match': 68291,\n",
       " 'point': 84775,\n",
       " 'risk': 92895,\n",
       " 'addiction': 3610,\n",
       " 'proof': 87238,\n",
       " 'woody': 122732,\n",
       " 'allen': 5243,\n",
       " 'still': 104942,\n",
       " 'fully': 44091,\n",
       " 'control': 24480,\n",
       " 'style': 106192,\n",
       " 'many': 67571,\n",
       " 'us': 117179,\n",
       " 'grown': 48190,\n",
       " 'lovethis': 65704,\n",
       " 'id': 54396,\n",
       " 'laughed': 62760,\n",
       " 'woodys': 122735,\n",
       " 'comedies': 22887,\n",
       " 'years': 123977,\n",
       " 'decade': 28255,\n",
       " 'ive': 58250,\n",
       " 'impressed': 55193,\n",
       " 'scarlet': 95647,\n",
       " 'johanson': 59253,\n",
       " 'managed': 67164,\n",
       " 'tone': 112477,\n",
       " 'sexy': 98505,\n",
       " 'image': 54786,\n",
       " 'jumped': 59698,\n",
       " 'average': 9491,\n",
       " 'spirited': 103491,\n",
       " 'young': 124343,\n",
       " 'womanthis': 122569,\n",
       " 'crown': 26470,\n",
       " 'jewel': 58965,\n",
       " 'career': 18230,\n",
       " 'wittier': 122420,\n",
       " 'devil': 29851,\n",
       " 'wears': 120418,\n",
       " 'prada': 85928,\n",
       " 'interesting': 56787,\n",
       " 'superman': 107097,\n",
       " 'friends': 43714,\n",
       " 'basically': 11111,\n",
       " 'theres': 110461,\n",
       " 'family': 39265,\n",
       " 'boy': 15262,\n",
       " 'jake': 58471,\n",
       " 'thinks': 110739,\n",
       " 'zombie': 124880,\n",
       " 'closet': 22055,\n",
       " 'parents': 81348,\n",
       " 'fighting': 40648,\n",
       " 'timethis': 111879,\n",
       " 'movie': 72905,\n",
       " 'slower': 101389,\n",
       " 'soap': 101959,\n",
       " 'opera': 79057,\n",
       " 'suddenly': 106622,\n",
       " 'decides': 28349,\n",
       " 'rambo': 89063,\n",
       " 'zombieok': 124894,\n",
       " 'youre': 124388,\n",
       " 'going': 46681,\n",
       " 'make': 66893,\n",
       " 'film': 40730,\n",
       " 'must': 74194,\n",
       " 'decide': 28341,\n",
       " 'thriller': 111221,\n",
       " 'drama': 32844,\n",
       " 'watchable': 119940,\n",
       " 'divorcing': 31699,\n",
       " 'arguing': 7935,\n",
       " 'like': 64184,\n",
       " 'real': 89680,\n",
       " 'totally': 112896,\n",
       " 'ruins': 94146,\n",
       " 'expected': 38202,\n",
       " 'boogeyman': 14608,\n",
       " 'similar': 100274,\n",
       " 'instead': 56503,\n",
       " 'meaningless': 69071,\n",
       " 'spots3': 103790,\n",
       " '10': 47,\n",
       " 'playing': 84333,\n",
       " 'descent': 29404,\n",
       " 'dialogs': 30009,\n",
       " 'shots': 99518,\n",
       " 'ignore': 54603,\n",
       " 'petter': 83129,\n",
       " 'matteis': 68457,\n",
       " 'love': 65571,\n",
       " 'money': 71879,\n",
       " 'visually': 118852,\n",
       " 'stunning': 106062,\n",
       " 'watch': 119932,\n",
       " 'mr': 73486,\n",
       " 'mattei': 68455,\n",
       " 'offers': 77980,\n",
       " 'vivid': 118916,\n",
       " 'portrait': 85433,\n",
       " 'human': 53756,\n",
       " 'relations': 90874,\n",
       " 'seems': 97217,\n",
       " 'telling': 109314,\n",
       " 'power': 85840,\n",
       " 'success': 106511,\n",
       " 'people': 82447,\n",
       " 'different': 30325,\n",
       " 'situations': 100678,\n",
       " 'encounter': 35639,\n",
       " 'variation': 117731,\n",
       " 'arthur': 8278,\n",
       " 'schnitzlers': 96054,\n",
       " 'play': 84279,\n",
       " 'theme': 110137,\n",
       " 'director': 30700,\n",
       " 'transfers': 113375,\n",
       " 'action': 3247,\n",
       " 'present': 86364,\n",
       " 'new': 75524,\n",
       " 'york': 124263,\n",
       " 'meet': 69302,\n",
       " 'connect': 23991,\n",
       " 'connected': 23992,\n",
       " 'another': 6799,\n",
       " 'next': 75632,\n",
       " 'person': 82909,\n",
       " 'know': 61379,\n",
       " 'previous': 86548,\n",
       " 'contact': 24261,\n",
       " 'stylishly': 106221,\n",
       " 'sophisticated': 102640,\n",
       " 'luxurious': 66154,\n",
       " 'look': 65214,\n",
       " 'taken': 108365,\n",
       " 'live': 64705,\n",
       " 'world': 122979,\n",
       " 'habitatthe': 48858,\n",
       " 'gets': 45714,\n",
       " 'souls': 102783,\n",
       " 'picture': 83542,\n",
       " 'stages': 104126,\n",
       " 'loneliness': 65097,\n",
       " 'inhabits': 56110,\n",
       " 'big': 13032,\n",
       " 'best': 12595,\n",
       " 'place': 84023,\n",
       " 'find': 41288,\n",
       " 'sincere': 100395,\n",
       " 'fulfillment': 44046,\n",
       " 'discerns': 31007,\n",
       " 'case': 18651,\n",
       " 'encounterthe': 35651,\n",
       " 'acting': 3156,\n",
       " 'good': 46838,\n",
       " 'direction': 30657,\n",
       " 'steve': 104845,\n",
       " 'buscemi': 16998,\n",
       " 'rosario': 93731,\n",
       " 'dawson': 27820,\n",
       " 'carol': 18442,\n",
       " 'kane': 60033,\n",
       " 'imperioli': 55062,\n",
       " 'adrian': 3838,\n",
       " 'grenier': 47863,\n",
       " 'rest': 91836,\n",
       " 'talented': 108418,\n",
       " 'cast': 18759,\n",
       " 'come': 22856,\n",
       " 'alivewe': 5162,\n",
       " 'wish': 122249,\n",
       " 'luck': 65904,\n",
       " 'await': 9582,\n",
       " 'anxiously': 7164,\n",
       " 'work': 122831,\n",
       " 'probably': 86776,\n",
       " 'alltime': 5411,\n",
       " 'favorite': 39918,\n",
       " 'story': 105289,\n",
       " 'selflessness': 97538,\n",
       " 'sacrifice': 94498,\n",
       " 'dedication': 28458,\n",
       " 'noble': 76107,\n",
       " 'cause': 19085,\n",
       " 'preachy': 86004,\n",
       " 'boring': 14890,\n",
       " 'old': 78350,\n",
       " 'despite': 29564,\n",
       " 'seen': 97227,\n",
       " '15': 414,\n",
       " 'times': 111785,\n",
       " 'last': 62550,\n",
       " '25': 1329,\n",
       " 'paul': 81958,\n",
       " 'lukas': 65980,\n",
       " 'performance': 82652,\n",
       " 'brings': 15958,\n",
       " 'tears': 109029,\n",
       " 'eyes': 38743,\n",
       " 'bette': 12719,\n",
       " 'davis': 27793,\n",
       " 'sympathetic': 108010,\n",
       " 'roles': 93404,\n",
       " 'delight': 28821,\n",
       " 'kids': 60759,\n",
       " 'grandma': 47489,\n",
       " 'says': 95504,\n",
       " 'dressedup': 33086,\n",
       " 'midgets': 70366,\n",
       " 'children': 20596,\n",
       " 'makes': 66927,\n",
       " 'fun': 44116,\n",
       " 'mothers': 72675,\n",
       " 'slow': 101375,\n",
       " 'awakening': 9594,\n",
       " 'whats': 121249,\n",
       " 'happening': 49648,\n",
       " 'roof': 93626,\n",
       " 'believable': 12134,\n",
       " 'startling': 104485,\n",
       " 'dozen': 32762,\n",
       " 'thumbs': 111402,\n",
       " 'theyd': 110538,\n",
       " 'sure': 107295,\n",
       " 'resurrection': 91943,\n",
       " 'dated': 27698,\n",
       " 'seahunt': 96815,\n",
       " 'series': 98113,\n",
       " 'tech': 109054,\n",
       " 'today': 112197,\n",
       " 'bring': 15952,\n",
       " 'back': 9992,\n",
       " 'kid': 60703,\n",
       " 'excitement': 37836,\n",
       " 'mei': 69391,\n",
       " 'grew': 47875,\n",
       " 'black': 13466,\n",
       " 'white': 121489,\n",
       " 'tv': 114631,\n",
       " 'gunsmoke': 48585,\n",
       " 'heros': 51317,\n",
       " 'weekyou': 120539,\n",
       " 'vote': 119101,\n",
       " 'comeback': 22862,\n",
       " 'sea': 96789,\n",
       " 'huntwe': 53999,\n",
       " 'need': 75163,\n",
       " 'change': 19685,\n",
       " 'pace': 80707,\n",
       " 'water': 120086,\n",
       " 'adventureoh': 3911,\n",
       " 'thank': 109830,\n",
       " 'outlet': 79936,\n",
       " 'view': 118427,\n",
       " 'viewpoints': 118509,\n",
       " 'moviesso': 73319,\n",
       " 'ole': 78417,\n",
       " 'believe': 12159,\n",
       " 'wanna': 119535,\n",
       " 'saywould': 95521,\n",
       " 'nice': 75686,\n",
       " 'read': 89622,\n",
       " 'plus': 84674,\n",
       " 'points': 84843,\n",
       " 'huntif': 53986,\n",
       " 'rhymes': 92430,\n",
       " 'lines': 64421,\n",
       " 'let': 63637,\n",
       " 'submitor': 106353,\n",
       " 'leave': 63146,\n",
       " 'doubt': 32567,\n",
       " 'quitif': 88644,\n",
       " 'lets': 63663,\n",
       " 'amazing': 5847,\n",
       " 'fresh': 43614,\n",
       " 'innovative': 56277,\n",
       " 'idea': 54402,\n",
       " '70s': 2034,\n",
       " 'aired': 4705,\n",
       " 'brilliant': 15894,\n",
       " 'dropped': 33245,\n",
       " '1990': 1012,\n",
       " 'funny': 44229,\n",
       " 'anymore': 7188,\n",
       " 'continued': 24378,\n",
       " 'decline': 28393,\n",
       " 'complete': 23427,\n",
       " 'waste': 119881,\n",
       " 'todayits': 112211,\n",
       " 'disgraceful': 31170,\n",
       " 'fallen': 39187,\n",
       " 'writing': 123459,\n",
       " 'painfully': 80864,\n",
       " 'bad': 10157,\n",
       " 'performances': 82683,\n",
       " 'almost': 5488,\n",
       " 'mildly': 70508,\n",
       " 'entertaining': 36321,\n",
       " 'respite': 91810,\n",
       " 'guesthosts': 48372,\n",
       " 'hard': 49772,\n",
       " 'creator': 25923,\n",
       " 'handselected': 49470,\n",
       " 'original': 79410,\n",
       " 'also': 5625,\n",
       " 'chose': 20919,\n",
       " 'band': 10634,\n",
       " 'hacks': 48898,\n",
       " 'followed': 42451,\n",
       " 'recognize': 90123,\n",
       " 'brilliance': 15886,\n",
       " 'fit': 41628,\n",
       " 'replace': 91422,\n",
       " 'mediocrity': 69251,\n",
       " 'felt': 40253,\n",
       " 'give': 46195,\n",
       " 'stars': 104415,\n",
       " 'respect': 91774,\n",
       " 'made': 66501,\n",
       " 'huge': 53687,\n",
       " 'awful': 9713,\n",
       " 'cant': 17983,\n",
       " 'encouraged': 35655,\n",
       " 'positive': 85500,\n",
       " 'comments': 23138,\n",
       " 'looking': 65234,\n",
       " 'forward': 43064,\n",
       " 'mistake': 71356,\n",
       " '950': 2320,\n",
       " 'films': 41041,\n",
       " 'worst': 123170,\n",
       " 'pacing': 80744,\n",
       " 'storyline': 105356,\n",
       " 'soundtrack': 102831,\n",
       " 'song': 102488,\n",
       " 'lame': 62205,\n",
       " 'country': 25311,\n",
       " 'tune': 114440,\n",
       " 'played': 84295,\n",
       " 'less': 63568,\n",
       " 'four': 43141,\n",
       " 'looks': 65249,\n",
       " 'cheap': 20189,\n",
       " 'extreme': 38631,\n",
       " 'rarely': 89312,\n",
       " 'happy': 49724,\n",
       " 'end': 35673,\n",
       " 'credits': 25984,\n",
       " 'prevents': 86538,\n",
       " 'giving': 46219,\n",
       " '1score': 1108,\n",
       " 'harvey': 50035,\n",
       " 'keitel': 60415,\n",
       " 'least': 63108,\n",
       " 'making': 66952,\n",
       " 'bit': 13343,\n",
       " 'effort': 34661,\n",
       " 'obsessives': 77654,\n",
       " 'gut': 48646,\n",
       " 'wrenching': 123352,\n",
       " 'laughter': 62831,\n",
       " 'hell': 50850,\n",
       " 'mom': 71780,\n",
       " 'liked': 64199,\n",
       " 'itgreat': 57932,\n",
       " 'camp': 17761,\n",
       " 'phil': 83246,\n",
       " 'alien': 5066,\n",
       " 'quirky': 88631,\n",
       " 'humour': 53903,\n",
       " 'based': 11069,\n",
       " 'oddness': 77840,\n",
       " 'everything': 37495,\n",
       " 'actual': 3510,\n",
       " 'punchlinesat': 87949,\n",
       " 'odd': 77817,\n",
       " 'progressed': 87078,\n",
       " 'didnt': 30195,\n",
       " 'jokes': 59329,\n",
       " 'anymoreits': 7199,\n",
       " 'low': 65735,\n",
       " 'budget': 16504,\n",
       " 'thats': 109954,\n",
       " 'problem': 86787,\n",
       " 'eventually': 37349,\n",
       " 'lost': 65417,\n",
       " 'interesti': 56783,\n",
       " 'imagine': 54828,\n",
       " 'stoner': 105157,\n",
       " 'currently': 26880,\n",
       " 'partakingfor': 81499,\n",
       " 'something': 102374,\n",
       " 'better': 12721,\n",
       " 'try': 114287,\n",
       " 'brother': 16195,\n",
       " 'planet': 84159,\n",
       " '12': 261,\n",
       " 'came': 17681,\n",
       " 'recall': 90012,\n",
       " 'scariest': 95640,\n",
       " 'scene': 95734,\n",
       " 'bird': 13267,\n",
       " 'eating': 34246,\n",
       " 'men': 69596,\n",
       " 'dangling': 27456,\n",
       " 'helplessly': 50945,\n",
       " 'parachutes': 81218,\n",
       " 'horror': 53103,\n",
       " 'horroras': 53110,\n",
       " 'cheesy': 20340,\n",
       " 'saturday': 95311,\n",
       " 'afternoons': 4203,\n",
       " 'tired': 112010,\n",
       " 'formula': 42949,\n",
       " 'monster': 72051,\n",
       " 'type': 114971,\n",
       " 'movies': 73219,\n",
       " 'usually': 117326,\n",
       " 'included': 55457,\n",
       " 'hero': 51276,\n",
       " 'beautiful': 11582,\n",
       " 'woman': 122522,\n",
       " 'might': 70435,\n",
       " 'daughter': 27722,\n",
       " 'professor': 87017,\n",
       " 'resolution': 91727,\n",
       " 'died': 30228,\n",
       " 'care': 18215,\n",
       " 'much': 73575,\n",
       " 'romantic': 93545,\n",
       " 'angle': 6505,\n",
       " 'year': 123944,\n",
       " 'predictable': 86106,\n",
       " 'plots': 84570,\n",
       " 'unintentional': 116241,\n",
       " 'humorbut': 53862,\n",
       " 'later': 62616,\n",
       " 'psycho': 87685,\n",
       " 'loved': 65594,\n",
       " 'star': 104331,\n",
       " 'janet': 58531,\n",
       " 'leigh': 63372,\n",
       " 'bumped': 16782,\n",
       " 'early': 34078,\n",
       " 'sat': 95220,\n",
       " 'took': 112584,\n",
       " 'notice': 76915,\n",
       " 'since': 100382,\n",
       " 'screenwriters': 96588,\n",
       " 'scary': 95660,\n",
       " 'possible': 85545,\n",
       " 'wellworn': 120981,\n",
       " 'rules': 94164,\n",
       " 'im': 54785,\n",
       " 'fan': 39330,\n",
       " 'bolls': 14415,\n",
       " 'enjoyed': 36096,\n",
       " 'postal': 85590,\n",
       " 'maybe': 68610,\n",
       " 'boll': 14405,\n",
       " 'apparently': 7502,\n",
       " 'bought': 15102,\n",
       " 'rights': 92737,\n",
       " 'cry': 26582,\n",
       " 'long': 65110,\n",
       " 'ago': 4476,\n",
       " 'game': 44732,\n",
       " 'finsished': 41421,\n",
       " 'killing': 60909,\n",
       " 'mercs': 69796,\n",
       " 'infiltrating': 55957,\n",
       " 'secret': 97040,\n",
       " 'research': 91632,\n",
       " 'labs': 61979,\n",
       " 'located': 64906,\n",
       " 'tropical': 114073,\n",
       " 'island': 57585,\n",
       " 'warned': 119682,\n",
       " 'schemed': 95962,\n",
       " 'together': 112264,\n",
       " 'along': 5542,\n",
       " 'legion': 63320,\n",
       " 'schmucks': 96046,\n",
       " 'feeling': 40138,\n",
       " 'loneley': 65095,\n",
       " 'invites': 57255,\n",
       " 'three': 111160,\n",
       " 'countrymen': 25330,\n",
       " 'players': 84308,\n",
       " 'names': 74604,\n",
       " 'til': 111574,\n",
       " 'schweiger': 96185,\n",
       " 'udo': 115096,\n",
       " 'kier': 60805,\n",
       " 'ralf': 89037,\n",
       " 'moellerthree': 71673,\n",
       " 'actually': 3516,\n",
       " 'selfs': 97584,\n",
       " 'biz': 13420,\n",
       " 'tale': 108404,\n",
       " 'jack': 58321,\n",
       " 'carver': 18628,\n",
       " 'yes': 124120,\n",
       " 'german': 45629,\n",
       " 'hail': 48999,\n",
       " 'bratwurst': 15556,\n",
       " 'dudes': 33476,\n",
       " 'however': 53516,\n",
       " 'tils': 111593,\n",
       " 'badass': 10176,\n",
       " 'complained': 23403,\n",
       " 'hes': 51409,\n",
       " 'staying': 104620,\n",
       " 'true': 114167,\n",
       " 'whole': 121588,\n",
       " 'perspective': 82980,\n",
       " 'dont': 32277,\n",
       " 'looked': 65226,\n",
       " 'kicking': 60691,\n",
       " 'beyond': 12883,\n",
       " 'demented': 28954,\n",
       " 'evil': 37560,\n",
       " 'mad': 66465,\n",
       " 'scientist': 96222,\n",
       " 'dr': 32772,\n",
       " 'krieger': 61707,\n",
       " 'geneticallymutatedsoldiers': 45406,\n",
       " 'gms': 46477,\n",
       " 'performing': 82733,\n",
       " 'topsecret': 112744,\n",
       " 'reminds': 91157,\n",
       " 'spoiler': 103605,\n",
       " 'vancouver': 117659,\n",
       " 'reason': 89875,\n",
       " 'palm': 81000,\n",
       " 'trees': 113682,\n",
       " 'rich': 92476,\n",
       " 'lumberjackwoods': 66007,\n",
       " 'havent': 50235,\n",
       " 'gone': 46814,\n",
       " 'started': 104461,\n",
       " 'mehehe': 69378,\n",
       " 'cannot': 17959,\n",
       " 'stay': 104613,\n",
       " 'shenanigans': 99023,\n",
       " 'delivers': 28869,\n",
       " 'meaning': 69062,\n",
       " 'suckthere': 106616,\n",
       " 'mentioning': 69721,\n",
       " 'imply': 55129,\n",
       " 'areas': 7861,\n",
       " 'boat': 14188,\n",
       " 'cromedalbino': 26329,\n",
       " 'squad': 103933,\n",
       " 'enters': 36303,\n",
       " 'laugh': 62732,\n",
       " 'reeks': 90426,\n",
       " 'scheisse': 95955,\n",
       " 'poop': 85180,\n",
       " 'simpletons': 100333,\n",
       " 'take': 108353,\n",
       " 'wiff': 121829,\n",
       " 'ahead': 4573,\n",
       " 'btw': 16396,\n",
       " 'annoying': 6742,\n",
       " 'sidekick': 99999,\n",
       " 'shoot': 99354,\n",
       " 'minutes': 70973,\n",
       " 'screen': 96482,\n",
       " 'shakespeareshakespeare': 98657,\n",
       " 'losti': 65424,\n",
       " 'appreciate': 7626,\n",
       " 'trying': 114297,\n",
       " 'shakespeare': 98646,\n",
       " 'masses': 68160,\n",
       " 'ruin': 94137,\n",
       " 'goodis': 46916,\n",
       " 'scottish': 96385,\n",
       " 'certain': 19429,\n",
       " 'rev': 92115,\n",
       " 'bowdler': 15184,\n",
       " 'hence': 50990,\n",
       " 'bowdlerization': 15187,\n",
       " 'tried': 113853,\n",
       " 'victorian': 118321,\n",
       " 'erain': 36705,\n",
       " 'words': 122807,\n",
       " 'improve': 55255,\n",
       " 'perfectioni': 82610,\n",
       " 'write': 123396,\n",
       " 'ten': 109390,\n",
       " 'text': 109781,\n",
       " 'english': 36010,\n",
       " 'composition': 23518,\n",
       " 'forte': 43006,\n",
       " 'keep': 60379,\n",
       " 'saying': 95478,\n",
       " 'cut': 26964,\n",
       " 'fantastic': 39439,\n",
       " 'prisoners': 86716,\n",
       " 'famous': 39323,\n",
       " 'george': 45572,\n",
       " 'clooney': 22019,\n",
       " 'roll': 93460,\n",
       " 'man': 67157,\n",
       " 'constant': 24187,\n",
       " 'sorrow': 102696,\n",
       " 'recommand': 90144,\n",
       " 'everybody': 37453,\n",
       " 'greetings': 47837,\n",
       " 'bart': 11027,\n",
       " 'kind': 60981,\n",
       " 'drawn': 32957,\n",
       " 'erotic': 36797,\n",
       " 'amateurish': 5817,\n",
       " 'unbelievable': 115439,\n",
       " 'bits': 13385,\n",
       " 'sort': 102709,\n",
       " 'school': 96073,\n",
       " 'project': 87110,\n",
       " 'rosanna': 93729,\n",
       " 'arquette': 8162,\n",
       " 'thinking': 110717,\n",
       " 'stock': 105062,\n",
       " 'bizarre': 13421,\n",
       " 'supposed': 107251,\n",
       " 'midwest': 70422,\n",
       " 'town': 113062,\n",
       " 'involved': 57265,\n",
       " 'lessons': 63599,\n",
       " 'learned': 63091,\n",
       " 'insights': 56394,\n",
       " 'stilted': 104975,\n",
       " 'quite': 88641,\n",
       " 'ridiculous': 92602,\n",
       " 'lots': 65461,\n",
       " 'skin': 100886,\n",
       " 'intrigues': 57087,\n",
       " 'videotaped': 118383,\n",
       " 'nonsensewhat': 76563,\n",
       " 'bisexual': 13322,\n",
       " 'relationship': 90876,\n",
       " 'nowhere': 77159,\n",
       " 'heterosexual': 51443,\n",
       " 'encounters': 35647,\n",
       " 'absurd': 2719,\n",
       " 'dance': 27370,\n",
       " 'stereotyped': 104810,\n",
       " 'pass': 81668,\n",
       " 'million': 70619,\n",
       " 'miles': 70523,\n",
       " 'wasted': 119884,\n",
       " 'could': 25195,\n",
       " 'spent': 103355,\n",
       " 'starving': 104505,\n",
       " 'aids': 4645,\n",
       " 'africa': 4146,\n",
       " 'simply': 100348,\n",
       " 'remade': 91052,\n",
       " 'fails': 39045,\n",
       " 'capture': 18134,\n",
       " 'flavor': 41892,\n",
       " 'terror': 109653,\n",
       " '1963': 854,\n",
       " 'title': 112063,\n",
       " 'liam': 63812,\n",
       " 'neeson': 75206,\n",
       " 'excellent': 37751,\n",
       " 'always': 5747,\n",
       " 'holds': 52492,\n",
       " 'exception': 37783,\n",
       " 'owen': 80578,\n",
       " 'wilson': 122004,\n",
       " 'feel': 40125,\n",
       " 'character': 19809,\n",
       " 'luke': 65983,\n",
       " 'major': 66883,\n",
       " 'fault': 39868,\n",
       " 'version': 118091,\n",
       " 'strayed': 105619,\n",
       " 'shirley': 99222,\n",
       " 'jackson': 58367,\n",
       " 'attempts': 9012,\n",
       " 'grandiose': 47485,\n",
       " 'thrill': 111214,\n",
       " 'earlier': 34065,\n",
       " 'trade': 113174,\n",
       " 'snazzier': 101762,\n",
       " 'special': 103179,\n",
       " 'effects': 34591,\n",
       " 'enjoy': 36069,\n",
       " 'friction': 43655,\n",
       " 'older': 78363,\n",
       " 'top': 112668,\n",
       " 'horrible': 53057,\n",
       " 'wasnt': 119845,\n",
       " 'continuous': 24401,\n",
       " 'minute': 70964,\n",
       " 'fight': 40632,\n",
       " 'chance': 19638,\n",
       " 'development': 29794,\n",
       " 'busy': 17089,\n",
       " 'running': 94238,\n",
       " 'sword': 107908,\n",
       " 'emotional': 35461,\n",
       " 'attachment': 8970,\n",
       " 'except': 37778,\n",
       " 'machine': 66379,\n",
       " 'wanted': 119557,\n",
       " 'destroy': 29610,\n",
       " 'blatantly': 13683,\n",
       " 'stolen': 105110,\n",
       " 'lotr': 65459,\n",
       " 'wars': 119745,\n",
       " 'matrix': 68425,\n",
       " 'examplesthe': 37709,\n",
       " 'ghost': 45778,\n",
       " 'final': 41244,\n",
       " 'yoda': 124214,\n",
       " 'obee': 77521,\n",
       " 'vader': 117448,\n",
       " 'spider': 103386,\n",
       " 'beginning': 11912,\n",
       " 'frodo': 43832,\n",
       " 'attacked': 8976,\n",
       " 'return': 92073,\n",
       " 'kings': 61045,\n",
       " 'elijah': 35097,\n",
       " 'wood': 122674,\n",
       " 'victim': 118279,\n",
       " 'waitit': 119328,\n",
       " 'hypnotizes': 54246,\n",
       " 'stings': 104995,\n",
       " 'wraps': 123327,\n",
       " 'upuh': 117095,\n",
       " 'helloand': 50886,\n",
       " 'vs': 119141,\n",
       " 'humans': 53808,\n",
       " 'matrixor': 68433,\n",
       " 'terminatorthere': 109561,\n",
       " 'examples': 37702,\n",
       " 'someone': 102352,\n",
       " 'tell': 109304,\n",
       " 'nazis': 74988,\n",
       " 'juvenile': 59854,\n",
       " 'line': 64388,\n",
       " 'rushed': 94286,\n",
       " 'conclusion': 23691,\n",
       " 'childrens': 20620,\n",
       " 'adult': 3851,\n",
       " 'either': 34850,\n",
       " 'disappointment': 30920,\n",
       " 'save': 95378,\n",
       " 'remember': 91116,\n",
       " 'filmit': 40924,\n",
       " 'cinema': 21206,\n",
       " 'dark': 27563,\n",
       " 'places': 84078,\n",
       " 'nervous': 75407,\n",
       " '7475': 2095,\n",
       " 'dad': 27149,\n",
       " ...}"
      ]
     },
     "execution_count": 54,
     "metadata": {},
     "output_type": "execute_result"
    }
   ],
   "source": [
    "bow.vocabulary_"
   ]
  },
  {
   "cell_type": "code",
   "execution_count": 58,
   "id": "a703e2da-bd07-4cd1-ac7c-a9d5dd7f6158",
   "metadata": {},
   "outputs": [
    {
     "data": {
      "text/plain": [
       "(19926, 125045)"
      ]
     },
     "execution_count": 58,
     "metadata": {},
     "output_type": "execute_result"
    }
   ],
   "source": [
    "# TDM Creation. \n",
    "\n",
    "TDM = bow.transform(df['review'])\n",
    "TDM.shape"
   ]
  },
  {
   "cell_type": "code",
   "execution_count": 60,
   "id": "23d8337c-456c-40e5-9753-1e56953c0527",
   "metadata": {},
   "outputs": [
    {
     "name": "stdout",
     "output_type": "stream",
     "text": [
      "(15940, 125045)\n",
      "(15940,)\n",
      "(3986, 125045)\n",
      "(3986,)\n"
     ]
    }
   ],
   "source": [
    "# data splitting.\n",
    "\n",
    "from sklearn.model_selection import train_test_split\n",
    "\n",
    "train_x, test_x, train_y, test_y = train_test_split(TDM,y,test_size=0.2,random_state=1)\n",
    "print(train_x.shape)\n",
    "print(train_y.shape)\n",
    "print(test_x.shape)\n",
    "print(test_y.shape)"
   ]
  },
  {
   "cell_type": "markdown",
   "id": "2659e3ab-5a8c-4d99-b437-ca62f2d82b9d",
   "metadata": {},
   "source": [
    "## Logistic Regression"
   ]
  },
  {
   "cell_type": "code",
   "execution_count": 72,
   "id": "19d21f3e-d73a-4060-a9cd-d1148b53860e",
   "metadata": {},
   "outputs": [
    {
     "name": "stdout",
     "output_type": "stream",
     "text": [
      "              precision    recall  f1-score   support\n",
      "\n",
      "           0       0.87      0.88      0.88      1952\n",
      "           1       0.88      0.88      0.88      2034\n",
      "\n",
      "    accuracy                           0.88      3986\n",
      "   macro avg       0.88      0.88      0.88      3986\n",
      "weighted avg       0.88      0.88      0.88      3986\n",
      "\n"
     ]
    },
    {
     "data": {
      "text/plain": [
       "<sklearn.metrics._plot.confusion_matrix.ConfusionMatrixDisplay at 0x241cadedd90>"
      ]
     },
     "execution_count": 72,
     "metadata": {},
     "output_type": "execute_result"
    },
    {
     "data": {
      "image/png": "[encoded data removed]",
      "text/plain": [
       "<Figure size 640x480 with 2 Axes>"
      ]
     },
     "metadata": {},
     "output_type": "display_data"
    }
   ],
   "source": [
    "# Model building. \n",
    "\n",
    "from sklearn.linear_model import LogisticRegression\n",
    "lr = LogisticRegression()\n",
    "from sklearn.metrics import accuracy_score,confusion_matrix,ConfusionMatrixDisplay,classification_report\n",
    "\n",
    "# ------------------------------------------------------------\n",
    "\n",
    "lr.fit(train_x,train_y)\n",
    "y_pred_lr = lr.predict(test_x)\n",
    "\n",
    "# -------------------------------------------------------------\n",
    "\n",
    "tab_lr = confusion_matrix(test_y,y_pred_lr)\n",
    "print(classification_report(test_y,y_pred_lr))\n",
    "ConfusionMatrixDisplay(tab_lr,display_labels=['Possitive','Negative']).plot()"
   ]
  },
  {
   "cell_type": "markdown",
   "id": "355a6454-7ac5-4ec2-b1c3-8acd3cd54334",
   "metadata": {},
   "source": [
    "## Naive Bayes"
   ]
  },
  {
   "cell_type": "code",
   "execution_count": 74,
   "id": "4d1d50e6-92e1-4d53-b264-8c7cfcd3c6f0",
   "metadata": {},
   "outputs": [
    {
     "name": "stdout",
     "output_type": "stream",
     "text": [
      "              precision    recall  f1-score   support\n",
      "\n",
      "           0       0.84      0.89      0.86      1952\n",
      "           1       0.89      0.83      0.86      2034\n",
      "\n",
      "    accuracy                           0.86      3986\n",
      "   macro avg       0.86      0.86      0.86      3986\n",
      "weighted avg       0.86      0.86      0.86      3986\n",
      "\n"
     ]
    },
    {
     "data": {
      "text/plain": [
       "<sklearn.metrics._plot.confusion_matrix.ConfusionMatrixDisplay at 0x241cace71f0>"
      ]
     },
     "execution_count": 74,
     "metadata": {},
     "output_type": "execute_result"
    },
    {
     "data": {
      "image/png": "[encoded data removed]",
      "text/plain": [
       "<Figure size 640x480 with 2 Axes>"
      ]
     },
     "metadata": {},
     "output_type": "display_data"
    }
   ],
   "source": [
    "from sklearn.naive_bayes import MultinomialNB\n",
    "nv = MultinomialNB()\n",
    "\n",
    "# -----------------------------------------------------\n",
    "nv.fit(train_x,train_y)\n",
    "y_pred_nv = nv.predict(test_x)\n",
    "\n",
    "#-------------------------------------------------------\n",
    "tab_nv = confusion_matrix(test_y,y_pred_nv)\n",
    "print(classification_report(test_y,y_pred_nv))\n",
    "ConfusionMatrixDisplay(tab_lr,display_labels=['Possitive','Negative']).plot()"
   ]
  },
  {
   "cell_type": "markdown",
   "id": "d3224a6c-90a4-4449-b671-858317ada789",
   "metadata": {},
   "source": [
    "## Random Forest"
   ]
  },
  {
   "cell_type": "code",
   "execution_count": 77,
   "id": "a755ae81-20a0-44f3-9bfc-72da0716ec2c",
   "metadata": {},
   "outputs": [
    {
     "name": "stdout",
     "output_type": "stream",
     "text": [
      "              precision    recall  f1-score   support\n",
      "\n",
      "           0       0.84      0.89      0.86      1952\n",
      "           1       0.89      0.83      0.86      2034\n",
      "\n",
      "    accuracy                           0.86      3986\n",
      "   macro avg       0.86      0.86      0.86      3986\n",
      "weighted avg       0.86      0.86      0.86      3986\n",
      "\n"
     ]
    },
    {
     "data": {
      "text/plain": [
       "<sklearn.metrics._plot.confusion_matrix.ConfusionMatrixDisplay at 0x241cbb28f10>"
      ]
     },
     "execution_count": 77,
     "metadata": {},
     "output_type": "execute_result"
    },
    {
     "data": {
      "image/png": "[encoded data removed]",
      "text/plain": [
       "<Figure size 640x480 with 2 Axes>"
      ]
     },
     "metadata": {},
     "output_type": "display_data"
    }
   ],
   "source": [
    "from sklearn.ensemble import RandomForestClassifier\n",
    "rm = RandomForestClassifier()\n",
    "\n",
    "# --------------------------------------------------------\n",
    "\n",
    "rm.fit(train_x,train_y)\n",
    "y_pred_rm = rm.predict(test_x)\n",
    "\n",
    "# -------------------------------------------------------\n",
    "tab_rm = confusion_matrix(test_y,y_pred_rm)\n",
    "print(classification_report(test_y,y_pred_rm))\n",
    "ConfusionMatrixDisplay(tab_rm,display_labels=['Possitive','Negative']).plot()"
   ]
  },
  {
   "cell_type": "code",
   "execution_count": 80,
   "id": "86e0b72e-415d-4490-b8b5-293e3e96d3dc",
   "metadata": {},
   "outputs": [
    {
     "name": "stdout",
     "output_type": "stream",
     "text": [
      "Fitting 5 folds for each of 10 candidates, totalling 50 fits\n",
      "[CV] END ........................criterion=gini, max_depth=4; total time=   2.5s\n",
      "[CV] END ........................criterion=gini, max_depth=4; total time=   2.4s\n",
      "[CV] END ........................criterion=gini, max_depth=4; total time=   2.4s\n",
      "[CV] END ........................criterion=gini, max_depth=4; total time=   2.2s\n",
      "[CV] END ........................criterion=gini, max_depth=4; total time=   2.2s\n",
      "[CV] END ........................criterion=gini, max_depth=5; total time=   3.0s\n",
      "[CV] END ........................criterion=gini, max_depth=5; total time=   2.8s\n",
      "[CV] END ........................criterion=gini, max_depth=5; total time=   2.8s\n",
      "[CV] END ........................criterion=gini, max_depth=5; total time=   2.6s\n",
      "[CV] END ........................criterion=gini, max_depth=5; total time=   2.7s\n",
      "[CV] END ........................criterion=gini, max_depth=6; total time=   3.4s\n",
      "[CV] END ........................criterion=gini, max_depth=6; total time=   3.3s\n",
      "[CV] END ........................criterion=gini, max_depth=6; total time=   3.4s\n",
      "[CV] END ........................criterion=gini, max_depth=6; total time=   3.5s\n",
      "[CV] END ........................criterion=gini, max_depth=6; total time=   3.4s\n",
      "[CV] END ........................criterion=gini, max_depth=7; total time=   3.9s\n",
      "[CV] END ........................criterion=gini, max_depth=7; total time=   3.9s\n",
      "[CV] END ........................criterion=gini, max_depth=7; total time=   3.8s\n",
      "[CV] END ........................criterion=gini, max_depth=7; total time=   3.7s\n",
      "[CV] END ........................criterion=gini, max_depth=7; total time=   3.7s\n",
      "[CV] END ........................criterion=gini, max_depth=8; total time=   4.7s\n",
      "[CV] END ........................criterion=gini, max_depth=8; total time=   5.3s\n",
      "[CV] END ........................criterion=gini, max_depth=8; total time=   4.9s\n",
      "[CV] END ........................criterion=gini, max_depth=8; total time=   5.1s\n",
      "[CV] END ........................criterion=gini, max_depth=8; total time=   5.0s\n",
      "[CV] END .....................criterion=entropy, max_depth=4; total time=   2.7s\n",
      "[CV] END .....................criterion=entropy, max_depth=4; total time=   2.5s\n",
      "[CV] END .....................criterion=entropy, max_depth=4; total time=   2.5s\n",
      "[CV] END .....................criterion=entropy, max_depth=4; total time=   2.5s\n",
      "[CV] END .....................criterion=entropy, max_depth=4; total time=   2.6s\n",
      "[CV] END .....................criterion=entropy, max_depth=5; total time=   3.2s\n",
      "[CV] END .....................criterion=entropy, max_depth=5; total time=   3.1s\n",
      "[CV] END .....................criterion=entropy, max_depth=5; total time=   2.9s\n",
      "[CV] END .....................criterion=entropy, max_depth=5; total time=   3.2s\n",
      "[CV] END .....................criterion=entropy, max_depth=5; total time=   3.3s\n",
      "[CV] END .....................criterion=entropy, max_depth=6; total time=   3.9s\n",
      "[CV] END .....................criterion=entropy, max_depth=6; total time=   4.0s\n",
      "[CV] END .....................criterion=entropy, max_depth=6; total time=   4.2s\n",
      "[CV] END .....................criterion=entropy, max_depth=6; total time=   4.1s\n",
      "[CV] END .....................criterion=entropy, max_depth=6; total time=   3.8s\n",
      "[CV] END .....................criterion=entropy, max_depth=7; total time=   4.6s\n",
      "[CV] END .....................criterion=entropy, max_depth=7; total time=   4.6s\n",
      "[CV] END .....................criterion=entropy, max_depth=7; total time=   5.1s\n",
      "[CV] END .....................criterion=entropy, max_depth=7; total time=   5.3s\n",
      "[CV] END .....................criterion=entropy, max_depth=7; total time=   5.2s\n",
      "[CV] END .....................criterion=entropy, max_depth=8; total time=   5.5s\n",
      "[CV] END .....................criterion=entropy, max_depth=8; total time=   5.1s\n",
      "[CV] END .....................criterion=entropy, max_depth=8; total time=   5.1s\n",
      "[CV] END .....................criterion=entropy, max_depth=8; total time=   5.2s\n",
      "[CV] END .....................criterion=entropy, max_depth=8; total time=   5.0s\n"
     ]
    },
    {
     "data": {
      "text/plain": [
       "{'max_depth': 8, 'criterion': 'gini'}"
      ]
     },
     "execution_count": 80,
     "metadata": {},
     "output_type": "execute_result"
    }
   ],
   "source": [
    "param = {'criterion': ['gini','entropy'], 'max_depth' : range(4,9) }\n",
    "\n",
    "from sklearn.model_selection import RandomizedSearchCV\n",
    "hp = RandomizedSearchCV(rm,param,verbose=2)\n",
    "\n",
    "hp.fit(train_x,train_y)\n",
    "hp.best_params_\n"
   ]
  },
  {
   "cell_type": "code",
   "execution_count": 84,
   "id": "e11fe217-5876-4320-be39-f03e3e68f8e6",
   "metadata": {},
   "outputs": [
    {
     "name": "stdout",
     "output_type": "stream",
     "text": [
      "              precision    recall  f1-score   support\n",
      "\n",
      "           0       0.79      0.88      0.83      1952\n",
      "           1       0.87      0.77      0.82      2034\n",
      "\n",
      "    accuracy                           0.83      3986\n",
      "   macro avg       0.83      0.83      0.83      3986\n",
      "weighted avg       0.83      0.83      0.83      3986\n",
      "\n"
     ]
    },
    {
     "data": {
      "text/plain": [
       "<sklearn.metrics._plot.confusion_matrix.ConfusionMatrixDisplay at 0x241cbe323d0>"
      ]
     },
     "execution_count": 84,
     "metadata": {},
     "output_type": "execute_result"
    },
    {
     "data": {
      "image/png": "[encoded data removed]",
      "text/plain": [
       "<Figure size 640x480 with 2 Axes>"
      ]
     },
     "metadata": {},
     "output_type": "display_data"
    }
   ],
   "source": [
    "rm_hp = RandomForestClassifier(criterion='gini',max_depth= 8)\n",
    "# --------------------------------------------------------\n",
    "\n",
    "rm_hp.fit(train_x,train_y)\n",
    "y_pred_rm_hp = rm_hp.predict(test_x)\n",
    "\n",
    "# -------------------------------------------------------\n",
    "tab_rm_hp = confusion_matrix(test_y,y_pred_rm_hp)\n",
    "print(classification_report(test_y,y_pred_rm_hp))\n",
    "ConfusionMatrixDisplay(tab_rm_hp,display_labels=['Possitive','Negative']).plot()"
   ]
  },
  {
   "cell_type": "markdown",
   "id": "624aecf9-ec23-4212-8e3f-91a4ea0a8b24",
   "metadata": {},
   "source": [
    "# Vectorization using n-gram"
   ]
  },
  {
   "cell_type": "code",
   "execution_count": 86,
   "id": "3382f587-d9d2-432c-95bb-ceffb0883f39",
   "metadata": {},
   "outputs": [
    {
     "name": "stdout",
     "output_type": "stream",
     "text": [
      "(15940, 5000)\n",
      "(15940,)\n",
      "(3986, 5000)\n",
      "(3986,)\n"
     ]
    }
   ],
   "source": [
    "cv = CountVectorizer(ngram_range=(1,2),max_features=5000)\n",
    "\n",
    "bow_1 = cv.fit(df['review'])\n",
    "TDM_1 = bow_1.transform(df['review'])\n",
    "\n",
    "# data splitting.\n",
    "\n",
    "from sklearn.model_selection import train_test_split\n",
    "\n",
    "train_x, test_x, train_y, test_y = train_test_split(TDM_1,y,test_size=0.2,random_state=1)\n",
    "print(train_x.shape)\n",
    "print(train_y.shape)\n",
    "print(test_x.shape)\n",
    "print(test_y.shape)"
   ]
  },
  {
   "cell_type": "code",
   "execution_count": 87,
   "id": "83e73273-7cc0-4b9f-a450-54cf10134b37",
   "metadata": {},
   "outputs": [
    {
     "name": "stdout",
     "output_type": "stream",
     "text": [
      "              precision    recall  f1-score   support\n",
      "\n",
      "           0       0.84      0.86      0.85      1952\n",
      "           1       0.86      0.85      0.86      2034\n",
      "\n",
      "    accuracy                           0.85      3986\n",
      "   macro avg       0.85      0.85      0.85      3986\n",
      "weighted avg       0.85      0.85      0.85      3986\n",
      "\n"
     ]
    },
    {
     "data": {
      "text/plain": [
       "<sklearn.metrics._plot.confusion_matrix.ConfusionMatrixDisplay at 0x241cbe11d30>"
      ]
     },
     "execution_count": 87,
     "metadata": {},
     "output_type": "execute_result"
    },
    {
     "data": {
      "image/png": "[encoded data removed]",
      "text/plain": [
       "<Figure size 640x480 with 2 Axes>"
      ]
     },
     "metadata": {},
     "output_type": "display_data"
    }
   ],
   "source": [
    "\n",
    "from sklearn.linear_model import LogisticRegression\n",
    "lr = LogisticRegression()\n",
    "from sklearn.metrics import accuracy_score,confusion_matrix,ConfusionMatrixDisplay,classification_report\n",
    "\n",
    "# ------------------------------------------------------------\n",
    "\n",
    "lr.fit(train_x,train_y)\n",
    "y_pred_lr = lr.predict(test_x)\n",
    "\n",
    "# -------------------------------------------------------------\n",
    "\n",
    "tab_lr = confusion_matrix(test_y,y_pred_lr)\n",
    "print(classification_report(test_y,y_pred_lr))\n",
    "ConfusionMatrixDisplay(tab_lr,display_labels=['Possitive','Negative']).plot()"
   ]
  },
  {
   "cell_type": "markdown",
   "id": "a5cfb8fa-d68c-4475-8ddb-ba56ab6da113",
   "metadata": {},
   "source": [
    "# Vectorization using Tf-idf "
   ]
  },
  {
   "cell_type": "code",
   "execution_count": 88,
   "id": "96819118-56b4-4193-b28a-782df74998e2",
   "metadata": {},
   "outputs": [],
   "source": [
    "from sklearn.feature_extraction.text import TfidfVectorizer\n",
    "tfidf = TfidfVectorizer()"
   ]
  },
  {
   "cell_type": "code",
   "execution_count": 92,
   "id": "93be0c76-5da6-47c7-9133-4f9e3a646340",
   "metadata": {},
   "outputs": [],
   "source": [
    "abcd = tfidf.fit(df['review'])\n",
    "\n",
    "TDM_2 = abcd.transform(df['review'])"
   ]
  },
  {
   "cell_type": "code",
   "execution_count": 93,
   "id": "48775569-9703-4bf7-a5c5-a3be0c2a04ce",
   "metadata": {},
   "outputs": [
    {
     "data": {
      "text/plain": [
       "(19926, 125045)"
      ]
     },
     "execution_count": 93,
     "metadata": {},
     "output_type": "execute_result"
    }
   ],
   "source": [
    "TDM_2.shape"
   ]
  },
  {
   "cell_type": "code",
   "execution_count": 94,
   "id": "7cdc6f2d-9e45-4900-b397-a962ab2c0409",
   "metadata": {},
   "outputs": [
    {
     "name": "stdout",
     "output_type": "stream",
     "text": [
      "(15940, 125045)\n",
      "(15940,)\n",
      "(3986, 125045)\n",
      "(3986,)\n"
     ]
    }
   ],
   "source": [
    "from sklearn.model_selection import train_test_split\n",
    "\n",
    "train_x, test_x, train_y, test_y = train_test_split(TDM_2,y,test_size=0.2,random_state=1)\n",
    "print(train_x.shape)\n",
    "print(train_y.shape)\n",
    "print(test_x.shape)\n",
    "print(test_y.shape)"
   ]
  },
  {
   "cell_type": "code",
   "execution_count": 95,
   "id": "2336b5a3-6403-4ca8-a166-efc7891e747a",
   "metadata": {},
   "outputs": [
    {
     "name": "stdout",
     "output_type": "stream",
     "text": [
      "              precision    recall  f1-score   support\n",
      "\n",
      "           0       0.90      0.88      0.89      1952\n",
      "           1       0.89      0.90      0.90      2034\n",
      "\n",
      "    accuracy                           0.89      3986\n",
      "   macro avg       0.89      0.89      0.89      3986\n",
      "weighted avg       0.89      0.89      0.89      3986\n",
      "\n"
     ]
    },
    {
     "data": {
      "text/plain": [
       "<sklearn.metrics._plot.confusion_matrix.ConfusionMatrixDisplay at 0x241e4ff9dc0>"
      ]
     },
     "execution_count": 95,
     "metadata": {},
     "output_type": "execute_result"
    },
    {
     "data": {
      "image/png": "[encoded data removed]",
      "text/plain": [
       "<Figure size 640x480 with 2 Axes>"
      ]
     },
     "metadata": {},
     "output_type": "display_data"
    }
   ],
   "source": [
    "\n",
    "from sklearn.linear_model import LogisticRegression\n",
    "lr = LogisticRegression()\n",
    "from sklearn.metrics import accuracy_score,confusion_matrix,ConfusionMatrixDisplay,classification_report\n",
    "\n",
    "# ------------------------------------------------------------\n",
    "\n",
    "lr.fit(train_x,train_y)\n",
    "y_pred_lr = lr.predict(test_x)\n",
    "\n",
    "# -------------------------------------------------------------\n",
    "\n",
    "tab_lr = confusion_matrix(test_y,y_pred_lr)\n",
    "print(classification_report(test_y,y_pred_lr))\n",
    "ConfusionMatrixDisplay(tab_lr,display_labels=['Possitive','Negative']).plot()"
   ]
  },
  {
   "cell_type": "code",
   "execution_count": null,
   "id": "41644624-91fa-4fc0-a571-818d719e1e76",
   "metadata": {},
   "outputs": [],
   "source": []
  }
 ],
 "metadata": {
  "kernelspec": {
   "display_name": "Python 3 (ipykernel)",
   "language": "python",
   "name": "python3"
  },
  "language_info": {
   "codemirror_mode": {
    "name": "ipython",
    "version": 3
   },
   "file_extension": ".py",
   "mimetype": "text/x-python",
   "name": "python",
   "nbconvert_exporter": "python",
   "pygments_lexer": "ipython3",
   "version": "3.9.13"
  }
 },
 "nbformat": 4,
 "nbformat_minor": 5
}
